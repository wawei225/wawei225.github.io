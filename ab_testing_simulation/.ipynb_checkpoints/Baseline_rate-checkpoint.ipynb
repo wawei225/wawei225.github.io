{
 "cells": [
  {
   "cell_type": "markdown",
   "id": "a2cf547d-b857-4254-8cb5-76ef4d21d350",
   "metadata": {},
   "source": [
    "We analyze historical user behavior data to determine the **baseline click-through rate (CTR)**, which is essential for calculating the required sample size.  \n",
    "\n",
    "Key aspects we examine:  \n",
    "1. **Weekly CTR trends**  \n",
    "2. **Monthly CTR fluctuations**  \n",
    "\n",
    "By evaluating these trends, we gain insights into **CTR stability** and select a representative baseline value for sample size estimation.  \n",
    "\n",
    "For the sample size calculation, we use a [tool](https://wawei225.github.io/sub_pages/ABtesting.html) and assume a **Minimum Detectable Effect (MDE) of 5%**.  \n"
   ]
  },
  {
   "cell_type": "code",
   "execution_count": 57,
   "id": "49e2d6b8-ee9f-475b-95bf-b70dfb5ec253",
   "metadata": {},
   "outputs": [],
   "source": [
    "import sqlite3\n",
    "import pandas as pd"
   ]
  },
  {
   "cell_type": "code",
   "execution_count": 58,
   "id": "7de99760-2604-4ba8-b0ea-73d82f3fefbc",
   "metadata": {},
   "outputs": [
    {
     "name": "stdout",
     "output_type": "stream",
     "text": [
      "   user_id device            timestamp    event_name page_name section_name\n",
      "0        1    ios  2024-09-19 15:20:00     view_page      home          NaN\n",
      "1        1    ios  2024-09-19 15:20:01  view_section      home    discovery\n",
      "2        1    ios  2024-09-19 15:24:39  view_section      home     trending\n",
      "3        2    ios  2024-09-07 17:57:00     view_page      home          NaN\n",
      "4        2    ios  2024-09-07 17:57:01  view_section      home    discovery\n"
     ]
    }
   ],
   "source": [
    "event_hist_df = pd.read_csv('hist_data/event_table_daily.csv')\n",
    "print(event_hist_df.head())"
   ]
  },
  {
   "cell_type": "code",
   "execution_count": 59,
   "id": "56238159-35a3-4eef-b0a7-ad95464c52de",
   "metadata": {},
   "outputs": [],
   "source": [
    "event_hist_df[\"timestamp\"] = pd.to_datetime(event_hist_df[\"timestamp\"])\n",
    "event_hist_df[\"week\"] = event_hist_df[\"timestamp\"].dt.strftime(\"%Y-%U\")\n",
    "event_hist_df[\"date\"] = event_hist_df[\"timestamp\"].dt.strftime(\"%Y-%m-%d\")  "
   ]
  },
  {
   "cell_type": "code",
   "execution_count": 60,
   "id": "f7ee9156-4580-4c44-979e-91e2eb4d1803",
   "metadata": {},
   "outputs": [],
   "source": [
    "view_df = event_hist_df[\n",
    "    (event_hist_df['device'] == 'ios') & \n",
    "    (event_hist_df['event_name'] == 'view_section') & \n",
    "    (event_hist_df['section_name'] == 'trending')\n",
    "]\n",
    "\n",
    "click_df = event_hist_df[\n",
    "    (event_hist_df['device'] == 'ios') & \n",
    "    (event_hist_df['event_name'] == 'click_item') & \n",
    "    (event_hist_df['section_name'] == 'trending')\n",
    "]\n",
    "\n",
    "# Count unique users per week\n",
    "view_trending_weekly = view_df.groupby(\"week\")[\"user_id\"].nunique()\n",
    "click_trending_weekly = click_df.groupby(\"week\")[\"user_id\"].nunique()\n",
    "\n",
    "# Calculate weekly conversion rate\n",
    "weekly_conversion_rate = (click_trending_weekly / view_trending_weekly).fillna(0) * 100"
   ]
  },
  {
   "cell_type": "code",
   "execution_count": 61,
   "id": "e56e4083-5ee3-485e-9905-7c347a932c29",
   "metadata": {},
   "outputs": [
    {
     "name": "stdout",
     "output_type": "stream",
     "text": [
      "week\n",
      "2024-35    25.546304\n",
      "2024-36    26.071874\n",
      "2024-37    26.159577\n",
      "2024-38    25.907140\n",
      "2024-39    26.354579\n",
      "Name: user_id, dtype: float64\n"
     ]
    }
   ],
   "source": [
    "print(weekly_conversion_rate)"
   ]
  },
  {
   "cell_type": "code",
   "execution_count": 62,
   "id": "f18037f7-5bdb-4c3f-aba1-d7990ffd018e",
   "metadata": {},
   "outputs": [],
   "source": [
    "# Count unique users per week\n",
    "view_trending = view_df[\"user_id\"].nunique()\n",
    "click_trending = click_df[\"user_id\"].nunique()\n",
    "# Calculate overall conversion rate\n",
    "conversion_rate = (click_trending / view_trending) * 100"
   ]
  },
  {
   "cell_type": "code",
   "execution_count": 63,
   "id": "f53d30a2-2e95-44ad-a593-aa6c9cddce2a",
   "metadata": {},
   "outputs": [
    {
     "name": "stdout",
     "output_type": "stream",
     "text": [
      "25.95009981859452\n"
     ]
    }
   ],
   "source": [
    "print(conversion_rate)"
   ]
  },
  {
   "cell_type": "markdown",
   "id": "0ce93e3f-83d1-4717-8441-0cfd474aefb3",
   "metadata": {},
   "source": [
    "Finall, we selected **25.95%** as the baseline User-Level CTR because it aligns closely with both the overall conversion rate and the average weekly conversion rate.\n",
    "\n",
    "With a 5% relative MDE, the total required sample size is 18002 users."
   ]
  },
  {
   "cell_type": "code",
   "execution_count": 65,
   "id": "0b9ce759-748a-452e-98a8-8182cfaa38c2",
   "metadata": {},
   "outputs": [
    {
     "name": "stdout",
     "output_type": "stream",
     "text": [
      "Average Daily Unique Users: 3538.68\n",
      "Estimated Experiment Duration: 10.17 days\n"
     ]
    }
   ],
   "source": [
    "# Count unique users per day\n",
    "daily_unique_users = view_df.groupby(\"date\")[\"user_id\"].nunique()\n",
    "\n",
    "# Compute the average daily unique users\n",
    "avg_daily_unique_users = daily_unique_users.mean()\n",
    "\n",
    "print(f\"Average Daily Unique Users: {avg_daily_unique_users:.2f}\")\n",
    "\n",
    "required_users = 36004  # Total users needed (A + B groups)\n",
    "experiment_days = required_users / avg_daily_unique_users\n",
    "\n",
    "print(f\"Estimated Experiment Duration: {experiment_days:.2f} days\")"
   ]
  },
  {
   "cell_type": "markdown",
   "id": "5858fddc-b209-4069-896d-d9a04d75a7af",
   "metadata": {},
   "source": [
    "Suggested experiment days is **14 days** to account for weekly traffic patterns."
   ]
  }
 ],
 "metadata": {
  "kernelspec": {
   "display_name": "Python [conda env:base] *",
   "language": "python",
   "name": "conda-base-py"
  },
  "language_info": {
   "codemirror_mode": {
    "name": "ipython",
    "version": 3
   },
   "file_extension": ".py",
   "mimetype": "text/x-python",
   "name": "python",
   "nbconvert_exporter": "python",
   "pygments_lexer": "ipython3",
   "version": "3.11.0"
  }
 },
 "nbformat": 4,
 "nbformat_minor": 5
}
