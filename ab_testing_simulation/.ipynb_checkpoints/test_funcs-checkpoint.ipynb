{
 "cells": [
  {
   "cell_type": "code",
   "execution_count": 1,
   "id": "5cef8850-7bb8-4b61-8e9d-bd13d3f65ec6",
   "metadata": {},
   "outputs": [],
   "source": [
    "import numpy as np\n",
    "import scipy.stats as stats"
   ]
  },
  {
   "cell_type": "code",
   "execution_count": 3,
   "id": "cd2e8b1a-d561-44b6-b4e4-527360b2a4fb",
   "metadata": {},
   "outputs": [],
   "source": [
    "\n",
    "def check_srm(n_AA, n_A, n_B, ratio_AA, ratio_A, ratio_B):\n",
    "    \"\"\"\n",
    "    Check for Sample Ratio Mismatch (SRM) using a chi-square test.\n",
    "\n",
    "    Parameters:\n",
    "    - n_AA: Observed user count in AA group\n",
    "    - n_A: Observed user count in A group\n",
    "    - n_B: Observed user count in B group\n",
    "\n",
    "    Returns:\n",
    "    - Dictionary containing chi-square statistic, p-value, expected counts, and SRM status\n",
    "    \"\"\"\n",
    "    # Total users\n",
    "    N = n_AA + n_A + n_B\n",
    "\n",
    "    # Expected count assuming equal distribution\n",
    "    expected = [N * ratio_AA, N * ratio_A, N * ratio_B]\n",
    "    observed = [n_AA, n_A, n_B]\n",
    "\n",
    "    # Perform chi-square test\n",
    "    chi2_stat, p_value = stats.chisquare(f_obs=observed, f_exp=expected)\n",
    "\n",
    "    # Determine if there is a significant SRM\n",
    "    srm_detected = p_value < 0.05\n",
    "\n",
    "    return {\n",
    "        'Observed Counts': {'AA': n_AA, 'A': n_A, 'B': n_B},\n",
    "        'Expected Counts': {'AA': expected[0], 'A': expected[1], 'B': expected[2]},\n",
    "        'Chi-Square Statistic': chi2_stat,\n",
    "        'p-value': p_value,\n",
    "        'SRM Detected': srm_detected\n",
    "    }"
   ]
  },
  {
   "cell_type": "code",
   "execution_count": null,
   "id": "6c3341fc-19f0-48b5-8bf8-cf3f4834eaaa",
   "metadata": {},
   "outputs": [],
   "source": []
  },
  {
   "cell_type": "code",
   "execution_count": null,
   "id": "b1b3322b-f017-497d-864c-7b8af2070cb5",
   "metadata": {},
   "outputs": [],
   "source": []
  }
 ],
 "metadata": {
  "kernelspec": {
   "display_name": "Python [conda env:base]",
   "language": "python",
   "name": "conda-base-py"
  },
  "language_info": {
   "codemirror_mode": {
    "name": "ipython",
    "version": 3
   },
   "file_extension": ".py",
   "mimetype": "text/x-python",
   "name": "python",
   "nbconvert_exporter": "python",
   "pygments_lexer": "ipython3",
   "version": "3.12.7"
  }
 },
 "nbformat": 4,
 "nbformat_minor": 5
}
