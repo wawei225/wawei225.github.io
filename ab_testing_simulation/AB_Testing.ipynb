{
 "cells": [
  {
   "cell_type": "code",
   "execution_count": 1,
   "id": "f3d7b07d-7011-459c-9f62-2aa2dc353e74",
   "metadata": {},
   "outputs": [],
   "source": [
    "import sqlite3\n",
    "import pandas as pd"
   ]
  },
  {
   "cell_type": "markdown",
   "id": "664dacc2-368e-44e9-a0e4-18451cd8f2b9",
   "metadata": {},
   "source": [
    "This page includes the process in evaluating the result of an A/B testing. It contains the following sections:\n",
    "\n",
    "1. Data Cleaning\n",
    "3. Evaluate SRM and general metrics for A/AA groups\n",
    "4. Evaluate A/B testing Result"
   ]
  },
  {
   "cell_type": "markdown",
   "id": "46286d98-3e0b-44fb-8b67-d538f8efce4e",
   "metadata": {},
   "source": [
    "# Data Cleaning\n",
    "\n",
    "The primary goal of our data cleaning process is to isolate users who meet the criteria for inclusion in the experiment — the target audience (TA) users. We have defined selection criteria that ensure the users are appropriately qualified for the experiment's objectives. The criteria include:\n",
    "\n",
    "1. **Event Timing**: The user's events should occur only after they have been recorded in the experiment tracking table. Additionally, the user registration date must be earlier than the event date recorded on the experiment table to ensure data consistency and reliability.\n",
    "\n",
    "2. **Platform Specification**: We restrict our analysis to users on iOS platforms. This focus helps control for platform-specific variables and ensures that the user experience is consistent across the study group.\n",
    "\n",
    "3. **Page Interaction**: It is essential that users have interacted with the \"Trending\" section on the home page. This interaction is crucial as it directly relates to the experiment's area of study, potentially affecting user behavior and engagement metrics.\n"
   ]
  },
  {
   "cell_type": "code",
   "execution_count": 4,
   "id": "8107804c-744a-400f-a119-21013cca1830",
   "metadata": {},
   "outputs": [],
   "source": [
    "# Load CSV files into Pandas\n",
    "experiment_df = pd.read_csv('experiment_data/experiment_table.csv')\n",
    "user_df = pd.read_csv('experiment_data/user_table.csv')\n",
    "event_df = pd.read_csv('experiment_data/event_table.csv')"
   ]
  },
  {
   "cell_type": "code",
   "execution_count": 5,
   "id": "076ef749-bab2-43ea-b58e-eb41a0f86202",
   "metadata": {},
   "outputs": [
    {
     "name": "stdout",
     "output_type": "stream",
     "text": [
      "   user_id  group_id  event_date device\n",
      "0        1         0  2024-10-15    ios\n",
      "1        2         2  2024-10-27    ios\n",
      "2        3         1  2024-10-25    ios\n",
      "3        4         2  2024-10-17    ios\n",
      "4        7         0  2024-10-21    ios\n"
     ]
    }
   ],
   "source": [
    "print(experiment_df.head())"
   ]
  },
  {
   "cell_type": "markdown",
   "id": "0619bd3b-f386-4a42-88f3-bb13a7dca7bf",
   "metadata": {},
   "source": [
    "We use SQL for data cleaning as it is commonly used tool"
   ]
  },
  {
   "cell_type": "code",
   "execution_count": 7,
   "id": "34d8f23d-9732-48a6-94ee-deb26d1d21d7",
   "metadata": {},
   "outputs": [
    {
     "name": "stdout",
     "output_type": "stream",
     "text": [
      "   user_id device            timestamp    event_name page_name section_name  \\\n",
      "0        1    ios  2024-10-15 19:37:00     view_page      home         None   \n",
      "1        1    ios  2024-10-15 19:37:01  view_section      home    discovery   \n",
      "2        1    ios  2024-10-15 19:41:07    click_item      home    discovery   \n",
      "3        1    ios  2024-10-15 19:45:31  view_section      home     trending   \n",
      "4        1    ios  2024-10-15 19:50:01    click_item      home     trending   \n",
      "\n",
      "   group_id  event_date  \n",
      "0         0  2024-10-15  \n",
      "1         0  2024-10-15  \n",
      "2         0  2024-10-15  \n",
      "3         0  2024-10-15  \n",
      "4         0  2024-10-15  \n"
     ]
    }
   ],
   "source": [
    "#Create SQLite in-memory database\n",
    "conn = sqlite3.connect(\":memory:\")  # Uses in-memory storage (free and fast)\n",
    "cursor = conn.cursor()\n",
    "\n",
    "# Step 3: Store DataFrames as SQL tables\n",
    "experiment_df.to_sql(\"experiment\", conn, index=False, if_exists=\"replace\")\n",
    "user_df.to_sql(\"user\", conn, index=False, if_exists=\"replace\")\n",
    "event_df.to_sql(\"event\", conn, index=False, if_exists=\"replace\")\n",
    "\n",
    "# Step 4: Run SQL queries for data cleaning (example: removing duplicates)\n",
    "TA_df = pd.read_sql_query(\"\"\"\n",
    "\n",
    "with TA as (\n",
    "    select \n",
    "        distinct e.user_id\n",
    "    from event e \n",
    "    left join experiment exp\n",
    "            on e.user_id = exp.user_id \n",
    "            and date(e.timestamp) >= exp.event_date\n",
    "            and e.device = exp.device \n",
    "    left join user u\n",
    "        on e.user_id = u.user_id\n",
    "        and exp.event_date >= u.registration_date\n",
    "    where \n",
    "        event_name = 'view_section'\n",
    "        and page_name = 'home'\n",
    "        and section_name = 'trending'\n",
    "        and exp.device = 'ios'\n",
    ")\n",
    "\n",
    "select \n",
    "    e.*,\n",
    "    exp.group_id,\n",
    "    exp.event_date\n",
    "from event e \n",
    "left join experiment exp\n",
    "    on e.user_id = exp.user_id \n",
    "    and date(e.timestamp) >= exp.event_date\n",
    "    and e.device = exp.device     \n",
    "where e.user_id in (select * from TA)\n",
    "\n",
    "\"\"\", conn)\n",
    "\n",
    "# Step 5: Retrieve and process cleaned data\n",
    "print(TA_df.head())\n",
    "\n",
    "# Close connection when done\n",
    "conn.close()"
   ]
  },
  {
   "cell_type": "markdown",
   "id": "4e87afe8-7cd3-41cc-bf14-9dd160b36fe9",
   "metadata": {},
   "source": [
    "# SRM and Comparing General Metric"
   ]
  },
  {
   "cell_type": "markdown",
   "id": "02bdbf2c-2d58-4947-8efa-a1406f40fb3d",
   "metadata": {},
   "source": [
    "## SRM\n",
    "Checking SRM after 3 days running an experiment"
   ]
  },
  {
   "cell_type": "code",
   "execution_count": 10,
   "id": "61dea4d3-9341-42b5-9757-aa3849d0ce8e",
   "metadata": {},
   "outputs": [
    {
     "name": "stdout",
     "output_type": "stream",
     "text": [
      "{'Observed Counts': {'AA': 3008, 'A': 2947, 'B': 6197}, 'Expected Counts': {'AA': 3038.0, 'A': 3038.0, 'B': 6076.0}, 'Chi-Square Statistic': 5.431698485845951, 'p-value': 0.06614875278646357, 'SRM Detected': False}\n"
     ]
    }
   ],
   "source": [
    "from test_funcs import check_srm\n",
    "result = check_srm(n_AA=TA_df[(TA_df['event_date']<='2024-10-07')& (TA_df['group_id']==0)]['user_id'].nunique(), \n",
    "                   n_A=TA_df[(TA_df['event_date']<='2024-10-07')& (TA_df['group_id']==1)]['user_id'].nunique(), \n",
    "                   n_B=TA_df[(TA_df['event_date']<='2024-10-07')& (TA_df['group_id']==2)]['user_id'].nunique(), \n",
    "                   ratio_AA=0.25, ratio_A=0.25, ratio_B=0.5)  # Replace with real numbers\n",
    "print(result)"
   ]
  },
  {
   "cell_type": "markdown",
   "id": "2e6981f7-2701-4d9d-a23d-72e3231b927a",
   "metadata": {},
   "source": [
    "## Check for general metrics between A and AA group"
   ]
  },
  {
   "cell_type": "code",
   "execution_count": 12,
   "id": "edec23c8-7e4a-47b0-a2a0-19ce8e563edd",
   "metadata": {},
   "outputs": [
    {
     "name": "stdout",
     "output_type": "stream",
     "text": [
      "   group_id  num_user_click  num_user_exposed\n",
      "0         0            7568             24710\n",
      "1         1            7510             24622\n",
      "2         2           15184             50668\n"
     ]
    }
   ],
   "source": [
    "# Step 2: Create SQLite in-memory database\n",
    "conn = sqlite3.connect(\":memory:\")  # Uses in-memory storage (free and fast)\n",
    "cursor = conn.cursor()\n",
    "\n",
    "# Step 3: Store DataFrames as SQL tables\n",
    "TA_df.to_sql(\"ta_df\", conn, index=False, if_exists=\"replace\")\n",
    "\n",
    "# Step 4: Run SQL queries for data cleaning (example: removing duplicates)\n",
    "general_metric = pd.read_sql_query(\"\"\"\n",
    "\n",
    "    select \n",
    "        group_id,\n",
    "        count(distinct \n",
    "            case when event_name = 'click_item' and page_name ='home' and section_name ='discovery'\n",
    "                then user_id\n",
    "            else null end) as num_user_click,\n",
    "        count(distinct \n",
    "            case when event_name = 'view_section' and page_name ='home' and section_name ='discovery'\n",
    "                then user_id\n",
    "            else null end) as num_user_exposed\n",
    "    from ta_df \n",
    "    group by 1\n",
    "\n",
    "\"\"\", conn)\n",
    "\n",
    "# Step 5: Retrieve and process cleaned data\n",
    "print(general_metric.head())\n",
    "\n",
    "# Close connection when done\n",
    "conn.close()"
   ]
  },
  {
   "cell_type": "code",
   "execution_count": 13,
   "id": "21f1c12e-d12c-4d0f-8ae8-4413c58f28d4",
   "metadata": {},
   "outputs": [
    {
     "name": "stdout",
     "output_type": "stream",
     "text": [
      "{'CTR_A': 0.3062727640631323, 'CTR_B': 0.30501177808463975, 'CTR_Difference': -0.001260985978492557, 'Z-score': -0.3039800897510471, 'p-value': 0.7611430599205433, '95% CI': (-0.00939141026016016, 0.006869438303175046), 'is_significant': False}\n"
     ]
    }
   ],
   "source": [
    "from test_funcs import z_test_proportions\n",
    "\n",
    "result = z_test_proportions(general_metric[general_metric['group_id']==0]['num_user_click'].sum(),\n",
    "                            general_metric[general_metric['group_id']==0]['num_user_exposed'].sum(), \n",
    "                            general_metric[general_metric['group_id']==1]['num_user_click'].sum(), \n",
    "                            general_metric[general_metric['group_id']==1]['num_user_exposed'].sum())\n",
    "print(result)"
   ]
  },
  {
   "cell_type": "markdown",
   "id": "7e8c9694-e5e6-4793-b331-19c7511be3f3",
   "metadata": {},
   "source": [
    "# A/B Testing Result"
   ]
  },
  {
   "cell_type": "code",
   "execution_count": 15,
   "id": "2feb20d3-8cb5-4d86-aa95-1847df11e088",
   "metadata": {},
   "outputs": [
    {
     "name": "stdout",
     "output_type": "stream",
     "text": [
      "   group_id  num_user_click  num_user_exposed\n",
      "0         1           14694             49332\n",
      "1         2           20376             50668\n"
     ]
    }
   ],
   "source": [
    "# Step 2: Create SQLite in-memory database\n",
    "conn = sqlite3.connect(\":memory:\")  # Uses in-memory storage (free and fast)\n",
    "cursor = conn.cursor()\n",
    "\n",
    "# Step 3: Store DataFrames as SQL tables\n",
    "TA_df.to_sql(\"ta_df\", conn, index=False, if_exists=\"replace\")\n",
    "\n",
    "# Step 4: Run SQL queries for data cleaning (example: removing duplicates)\n",
    "success_metric = pd.read_sql_query(\"\"\"\n",
    "\n",
    "    select \n",
    "        case when group_id ==0 then 1 else group_id end as group_id,\n",
    "        count(distinct \n",
    "            case when event_name = 'click_item' and page_name ='home' and section_name ='trending'\n",
    "                then user_id\n",
    "            else null end) as num_user_click,\n",
    "        count(distinct \n",
    "            case when event_name = 'view_section' and page_name ='home' and section_name ='trending'\n",
    "                then user_id\n",
    "            else null end) as num_user_exposed\n",
    "    from ta_df \n",
    "    group by 1\n",
    "\n",
    "\"\"\", conn)\n",
    "\n",
    "# Step 5: Retrieve and process cleaned data\n",
    "print(success_metric.head())\n",
    "\n",
    "# Close connection when done\n",
    "conn.close()"
   ]
  },
  {
   "cell_type": "code",
   "execution_count": 16,
   "id": "d19a943f-e11a-4875-89b7-f98b674af544",
   "metadata": {},
   "outputs": [
    {
     "name": "stdout",
     "output_type": "stream",
     "text": [
      "{'CTR_A': 0.29785940160544877, 'CTR_B': 0.4021473119128444, 'CTR_Difference': 0.10428791030739565, 'Z-score': 34.55211394502931, 'p-value': 0.0, '95% CI': (0.09837219271770982, 0.11020362789708148), 'is_significant': True}\n"
     ]
    }
   ],
   "source": [
    "result = z_test_proportions(success_metric[success_metric['group_id']==1]['num_user_click'].sum(),\n",
    "                            success_metric[success_metric['group_id']==1]['num_user_exposed'].sum(), \n",
    "                            success_metric[success_metric['group_id']==2]['num_user_click'].sum(), \n",
    "                            success_metric[success_metric['group_id']==2]['num_user_exposed'].sum())\n",
    "print(result)"
   ]
  },
  {
   "cell_type": "markdown",
   "id": "5efbc9d1-7f37-47a9-b22e-8a4c6e093c97",
   "metadata": {},
   "source": [
    "**The new UI design for the trending section has a positive and significant impact on the click-through rate, increasing it by approximately 10.43%.** This improvement suggests that the redesigned trending section is more effective at attracting users and encouraging them to engage with the displayed items."
   ]
  }
 ],
 "metadata": {
  "kernelspec": {
   "display_name": "Python [conda env:base] *",
   "language": "python",
   "name": "conda-base-py"
  },
  "language_info": {
   "codemirror_mode": {
    "name": "ipython",
    "version": 3
   },
   "file_extension": ".py",
   "mimetype": "text/x-python",
   "name": "python",
   "nbconvert_exporter": "python",
   "pygments_lexer": "ipython3",
   "version": "3.11.0"
  }
 },
 "nbformat": 4,
 "nbformat_minor": 5
}
